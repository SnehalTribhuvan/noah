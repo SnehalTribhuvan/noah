{
 "cells": [
  {
   "cell_type": "markdown",
   "id": "096f10e4-def2-4def-afbb-5779a0ad9c10",
   "metadata": {},
   "source": [
    "### Problem 1: Write a program that will give you in hand monthly salary after deduction on CTC - HRA(10%), DA(5%), PF(3%) and taxes deduction as below:\n",
    "Salary(Lakhs) : Tax(%)\n",
    "\n",
    "#Below 5 : 0%\n",
    "#5-10 : 10%\n",
    "#10-20 : 20%\n",
    "#aboove 20 : 30%"
   ]
  },
  {
   "cell_type": "code",
   "execution_count": 2,
   "id": "30567f08-5918-4884-b8b7-c56436b60989",
   "metadata": {},
   "outputs": [
    {
     "name": "stdin",
     "output_type": "stream",
     "text": [
      "Enter your CTC (in Lakhs):  23456789\n"
     ]
    },
    {
     "name": "stdout",
     "output_type": "stream",
     "text": [
      "Your in-hand monthly salary is:  1122016.7\n"
     ]
    }
   ],
   "source": [
    "def calculate_in_hand_salary(ctc):\n",
    "   \n",
    "    hra = ctc * 0.1\n",
    "    da = ctc * 0.05\n",
    "    pf = ctc * 0.03\n",
    "\n",
    "    taxable_income = ctc - hra - da - pf\n",
    "\n",
    "    if taxable_income < 5:\n",
    "        tax = 0\n",
    "    elif 5 <= taxable_income < 10:\n",
    "        tax = (taxable_income - 5) * 0.1\n",
    "    elif 10 <= taxable_income < 20:\n",
    "        tax = (5 * 0.1) + ((taxable_income - 10) * 0.2)\n",
    "    else:\n",
    "        tax = (5 * 0.1) + (10 * 0.2) + ((taxable_income - 20) * 0.3)\n",
    "\n",
    "    in_hand_salary = (ctc - hra - da - pf - tax) / 12\n",
    "\n",
    "    return in_hand_salary\n",
    "\n",
    "ctc = float(input(\"Enter your CTC (in Lakhs): \"))\n",
    "in_hand_salary = calculate_in_hand_salary(ctc)\n",
    "print(\"Your in-hand monthly salary is: \", round(in_hand_salary, 2))"
   ]
  },
  {
   "cell_type": "markdown",
   "id": "05c99af0-c99e-46e1-8b9f-85b9e0d70cef",
   "metadata": {},
   "source": [
    "### Problem 2: Write a program that take a user input of three angles and will find out whether it can form a triangle or not."
   ]
  },
  {
   "cell_type": "code",
   "execution_count": 3,
   "id": "c1db6a8d-d4c7-4fa9-96b1-f99206a8075e",
   "metadata": {},
   "outputs": [
    {
     "name": "stdin",
     "output_type": "stream",
     "text": [
      "Please Enter the First Angle of a Triangle: 2\n",
      "Please Enter the Second Angle of a Triangle: 4\n",
      "Please Enter the Third Angle of a Triangle: 4\n"
     ]
    },
    {
     "name": "stdout",
     "output_type": "stream",
     "text": [
      "\n",
      " It can not form a Triangle\n"
     ]
    }
   ],
   "source": [
    "a = int(input('Please Enter the First Angle of a Triangle:'))\n",
    "b = int(input('Please Enter the Second Angle of a Triangle:'))\n",
    "c = int(input('Please Enter the Third Angle of a Triangle:'))\n",
    "total = a + b + c\n",
    "\n",
    "if total == 180:\n",
    "    print(\"\\n It can form a Triangle\")\n",
    "else:\n",
    "    print(\"\\n It can not form a Triangle\")"
   ]
  },
  {
   "cell_type": "markdown",
   "id": "c067a608-2d23-4889-a05e-488d44d72382",
   "metadata": {},
   "source": [
    "### Problem 3: Write a program that will take user input of cost price and selling price and determines whether its a loss or a profit."
   ]
  },
  {
   "cell_type": "code",
   "execution_count": 4,
   "id": "1e201085-16b1-43e2-8e94-6884cdca77ea",
   "metadata": {},
   "outputs": [
    {
     "name": "stdin",
     "output_type": "stream",
     "text": [
      "the selling price is: 234\n",
      "the cost price is: 345\n"
     ]
    },
    {
     "name": "stdout",
     "output_type": "stream",
     "text": [
      "its a loss\n"
     ]
    }
   ],
   "source": [
    "sp=int(input(\"the selling price is:\"))\n",
    "cp=int(input(\"the cost price is:\"))\n",
    "if sp>cp:\n",
    "    profit=sp-cp\n",
    "    print(\"its a profit\")\n",
    "if sp<cp:\n",
    "    loss=cp-sp\n",
    "    print(\"its a loss\")\n",
    "else:\n",
    "    print(\"no profit no loss\")"
   ]
  },
  {
   "cell_type": "markdown",
   "id": "2912db08-bb6c-4ebf-9ccd-1570143fa1d8",
   "metadata": {},
   "source": [
    "### Problem 4: Write a menu-driven program -\n",
    "1.cm to ft 2.km to miles 3.USD to INR 4.exit"
   ]
  },
  {
   "cell_type": "code",
   "execution_count": 5,
   "id": "08ee88f0-16ad-4bf6-a27a-996bb16e3a94",
   "metadata": {},
   "outputs": [
    {
     "name": "stdin",
     "output_type": "stream",
     "text": [
      "hii select one option\n",
      "1. cms to ft\n",
      "2. km to miles\n",
      "3. usd to inr\n",
      "4. exit 1\n",
      "enter your cm value 23\n"
     ]
    },
    {
     "name": "stdout",
     "output_type": "stream",
     "text": [
      "ft value is  0.7544000000000001\n"
     ]
    }
   ],
   "source": [
    "menu=input(\"\"\"hii select one option\n",
    "1. cms to ft\n",
    "2. km to miles\n",
    "3. usd to inr\n",
    "4. exit\"\"\")\n",
    "\n",
    "if menu==\"1\":\n",
    "    cm=float(input(\"enter your cm value\"))\n",
    "    print(\"ft value is \",0.03280*cm)\n",
    "elif menu==\"2\":\n",
    "    km=eval(input(\"enter your km value\"))\n",
    "    print(\"miles value is\",0.62*km)\n",
    "elif menu==\"3\":\n",
    "    usd=eval(input(\"enter your usd value\"))\n",
    "    print(\"inr value is\",83.35*usd)\n",
    "else:\n",
    "    print(\"exit\")"
   ]
  },
  {
   "cell_type": "markdown",
   "id": "6c396bff-2566-4faf-8ddf-c821a3511f82",
   "metadata": {},
   "source": [
    "### Problem 5 - Exercise 12: Display Fibonacci series up to 10 terms.\n",
    "Note: The Fibonacci Sequence is a series of numbers. The next number is found by adding up the two numbers before it. The first two numbers are 0 and 1. For example, 0, 1, 1, 2, 3, 5, 8, 13, 21. The next number in this series above is 13+21 = 34"
   ]
  },
  {
   "cell_type": "code",
   "execution_count": 6,
   "id": "a741909f-5f3d-4a4f-9657-e7164cf89be1",
   "metadata": {},
   "outputs": [
    {
     "name": "stdout",
     "output_type": "stream",
     "text": [
      "Fibonacci Series: 0 1 1 2 3 5 8 13 21 34 "
     ]
    }
   ],
   "source": [
    "num = 10\n",
    "n1, n2 = 0, 1\n",
    "print(\"Fibonacci Series:\", n1, n2, end=\" \")\n",
    "for i in range(2,num):\n",
    "    n3 = n1 + n2\n",
    "    n1 = n2\n",
    "    n2 = n3\n",
    "    print(n3, end=\" \")"
   ]
  },
  {
   "cell_type": "markdown",
   "id": "e40e462d-7998-4ae1-bf08-9b0c36435f99",
   "metadata": {},
   "source": [
    "### Problem 6 - Find the factorial of a given number.\n",
    "Write a program to use the loop to find the factorial of a given number.\n",
    "\n",
    "The factorial (symbol: !) means to multiply all whole numbers from the chosen number down to 1.\n",
    "\n",
    "For example: calculate the factorial of 5\n",
    "\n",
    "5! = 5 × 4 × 3 × 2 × 1 = 120"
   ]
  },
  {
   "cell_type": "code",
   "execution_count": 7,
   "id": "067ec241-debd-4ace-b569-710277eff0e9",
   "metadata": {},
   "outputs": [
    {
     "name": "stdout",
     "output_type": "stream",
     "text": [
      "The factorial of 5 is 120\n"
     ]
    }
   ],
   "source": [
    "num = 5\n",
    "factorial = 1\n",
    "if num == 0:\n",
    "   print(\"The factorial of 0 is 1\")\n",
    "else:\n",
    "   for i in range(1,num + 1):\n",
    "       factorial = factorial*i\n",
    "   print(\"The factorial of\",num,\"is\",factorial)"
   ]
  },
  {
   "cell_type": "markdown",
   "id": "8e9816e1-fe6f-402a-9381-7345dc70e892",
   "metadata": {},
   "source": [
    "### Problem 7 - Reverse a given integer number.\n",
    "Example:\n",
    "\n",
    "Input:\n",
    "\n",
    "76542 Output:\n",
    "\n",
    "24567"
   ]
  },
  {
   "cell_type": "code",
   "execution_count": 8,
   "id": "90ffd324-41c9-46a5-85db-b2042e29242c",
   "metadata": {},
   "outputs": [
    {
     "name": "stdin",
     "output_type": "stream",
     "text": [
      "Enter a number:  76542\n"
     ]
    },
    {
     "name": "stdout",
     "output_type": "stream",
     "text": [
      "Reversed number:  24567\n"
     ]
    }
   ],
   "source": [
    "def reverse_integer(n):\n",
    "    return int(str(n)[::-1])\n",
    "\n",
    "n = int(input(\"Enter a number: \"))\n",
    "print(\"Reversed number: \", reverse_integer(n))"
   ]
  },
  {
   "cell_type": "markdown",
   "id": "ae82a8bd-e109-4ec8-9d26-1a7facf65afa",
   "metadata": {},
   "source": [
    "### Problem 8: Take a user input as integer N. Find out the sum from 1 to N. If any number if divisible by 5, then skip that number. And if the sum is greater than 300, don't need to calculate the sum further more. Print the final result. And don't use for loop to solve this problem.\n",
    "Example 1:\n",
    "\n",
    "Input:\n",
    "\n",
    "30 Output:\n",
    "\n",
    "276"
   ]
  },
  {
   "cell_type": "code",
   "execution_count": 12,
   "id": "8b855ccd-0056-4e78-b679-1059a8a0d05a",
   "metadata": {},
   "outputs": [
    {
     "name": "stdin",
     "output_type": "stream",
     "text": [
      "Enter a number:  30 \n"
     ]
    },
    {
     "name": "stdout",
     "output_type": "stream",
     "text": [
      "The sum is:  303\n"
     ]
    }
   ],
   "source": [
    "def calculate_sum(n):\n",
    "    sum = 0\n",
    "    i = 1\n",
    "    while i <= n:\n",
    "        if i % 5 != 0:\n",
    "            sum += i\n",
    "            if sum > 300:\n",
    "                break\n",
    "        i += 1\n",
    "    return sum\n",
    "\n",
    "n = int(input(\"Enter a number: \"))\n",
    "print(\"The sum is: \", calculate_sum(n))"
   ]
  },
  {
   "cell_type": "markdown",
   "id": "a9c2b3f0-c1f8-46b3-89f2-75663d3b83c4",
   "metadata": {},
   "source": [
    "### Problem 9: Write a program that keeps on accepting a number from the user until the user enters Zero. Display the sum and average of all the numbers."
   ]
  },
  {
   "cell_type": "code",
   "execution_count": 13,
   "id": "6f2ad68c-d726-4338-b445-17dd28a58015",
   "metadata": {},
   "outputs": [
    {
     "name": "stdout",
     "output_type": "stream",
     "text": [
      "enter the numbers to calculate their sum and average.\n",
      "enter 0 to exit\n"
     ]
    },
    {
     "name": "stdin",
     "output_type": "stream",
     "text": [
      " 1\n",
      " 2\n",
      " 3\n",
      " 4\n",
      " 5\n",
      " 6\n",
      " 7\n",
      " 8\n",
      " 9\n",
      " 0\n"
     ]
    },
    {
     "name": "stdout",
     "output_type": "stream",
     "text": [
      "Average and Sum of the above numbers are: 5.0 45.0\n"
     ]
    }
   ],
   "source": [
    "print(\"enter the numbers to calculate their sum and average.\")\n",
    "print(\"enter 0 to exit\")\n",
    "count = 0\n",
    "sum = 0.0\n",
    "number = 1\n",
    "while number != 0:\n",
    "    number = int(input(\"\"))\n",
    "    sum = sum + number\n",
    "    count += 1\n",
    "if count == 0:\n",
    "    print(\"Input some numbers\")\n",
    "else:\n",
    "    print(\"Average and Sum of the above numbers are:\", sum / (count-1), sum)"
   ]
  },
  {
   "cell_type": "markdown",
   "id": "eda93309-ff92-4cf6-8121-af675591455f",
   "metadata": {},
   "source": [
    "### Problem 9: Write a program which will find all such numbers which are divisible by 7 but are not a multiple of 5, between 2000 and 3200 (both included). The numbers obtained should be printed in a comma-separated sequence on a single line."
   ]
  },
  {
   "cell_type": "code",
   "execution_count": 14,
   "id": "ea249544-6096-4286-b14d-629814c8dc79",
   "metadata": {},
   "outputs": [
    {
     "name": "stdout",
     "output_type": "stream",
     "text": [
      "2002,2009,2016,2023,2037,2044,2051,2058,2072,2079,2086,2093,2107,2114,2121,2128,2142,2149,2156,2163,2177,2184,2191,2198,2212,2219,2226,2233,2247,2254,2261,2268,2282,2289,2296,2303,2317,2324,2331,2338,2352,2359,2366,2373,2387,2394,2401,2408,2422,2429,2436,2443,2457,2464,2471,2478,2492,2499,2506,2513,2527,2534,2541,2548,2562,2569,2576,2583,2597,2604,2611,2618,2632,2639,2646,2653,2667,2674,2681,2688,2702,2709,2716,2723,2737,2744,2751,2758,2772,2779,2786,2793,2807,2814,2821,2828,2842,2849,2856,2863,2877,2884,2891,2898,2912,2919,2926,2933,2947,2954,2961,2968,2982,2989,2996,3003,3017,3024,3031,3038,3052,3059,3066,3073,3087,3094,3101,3108,3122,3129,3136,3143,3157,3164,3171,3178,3192,3199\n"
     ]
    }
   ],
   "source": [
    "numbers = [str(i) for i in range(2000, 3201) if i % 7 == 0 and i % 5!= 0]\n",
    "print(','.join(numbers))"
   ]
  },
  {
   "cell_type": "markdown",
   "id": "e2625003-b59a-4112-a0de-587cf6f416d3",
   "metadata": {},
   "source": [
    "### Problem 10: Write a program, which will find all such numbers between 1000 and 3000 (both included) such that each digit of the number is an even number. The numbers obtained should be printed in a space-separated sequence on a single line."
   ]
  },
  {
   "cell_type": "code",
   "execution_count": 15,
   "id": "7bd5b83a-da3e-4172-ac45-b86f38c8a659",
   "metadata": {},
   "outputs": [
    {
     "name": "stdout",
     "output_type": "stream",
     "text": [
      "2000 2002 2004 2006 2008 2020 2022 2024 2026 2028 2040 2042 2044 2046 2048 2060 2062 2064 2066 2068 2080 2082 2084 2086 2088 2200 2202 2204 2206 2208 2220 2222 2224 2226 2228 2240 2242 2244 2246 2248 2260 2262 2264 2266 2268 2280 2282 2284 2286 2288 2400 2402 2404 2406 2408 2420 2422 2424 2426 2428 2440 2442 2444 2446 2448 2460 2462 2464 2466 2468 2480 2482 2484 2486 2488 2600 2602 2604 2606 2608 2620 2622 2624 2626 2628 2640 2642 2644 2646 2648 2660 2662 2664 2666 2668 2680 2682 2684 2686 2688 2800 2802 2804 2806 2808 2820 2822 2824 2826 2828 2840 2842 2844 2846 2848 2860 2862 2864 2866 2868 2880 2882 2884 2886 2888\n"
     ]
    }
   ],
   "source": [
    "numbers = [str(i) for i in range(1000, 3001) if all(int(digit) % 2 == 0 for digit in str(i))]\n",
    "print(' '.join(numbers))"
   ]
  },
  {
   "cell_type": "markdown",
   "id": "3954b972-4b58-4939-aa04-71e8e2c55386",
   "metadata": {},
   "source": [
    "### Problem 11: A robot moves in a plane starting from the original point (0,0). The robot can move toward UP, DOWN, LEFT and RIGHT with a given steps.¶\n",
    "The trace of robot movement is shown as the following:\n",
    "\n",
    "UP 5 DOWN 3 LEFT 3 RIGHT 2 !\n",
    "\n",
    "The numbers after the direction are steps.\n",
    "\n",
    "! means robot stop there."
   ]
  },
  {
   "cell_type": "code",
   "execution_count": 31,
   "id": "4022e908-f200-4b17-a486-eba607da48b4",
   "metadata": {},
   "outputs": [
    {
     "name": "stdout",
     "output_type": "stream",
     "text": [
      "Final position: (-1, 2)\n"
     ]
    }
   ],
   "source": [
    "trace = \"UP 5 DOWN 3 LEFT 3 RIGHT 2\"\n",
    "movements = trace.split()\n",
    "x, y = 0, 0\n",
    "for i in range(0, len(movements), 2):\n",
    "    direction = movements[i]\n",
    "    steps = int(movements[i+1])\n",
    "    if direction == \"UP\":\n",
    "        y += steps\n",
    "    elif direction == \"DOWN\":\n",
    "        y -= steps\n",
    "    elif direction == \"LEFT\":\n",
    "        x -= steps\n",
    "    elif direction == \"RIGHT\":\n",
    "        x += steps\n",
    "print(\"Final position: ({}, {})\".format(x, y))"
   ]
  },
  {
   "cell_type": "markdown",
   "id": "0f2c176e-5eba-4f0d-81cf-01ee5a516073",
   "metadata": {},
   "source": [
    "### Please write a program to compute the distance from current position after a sequence of movement and original point.\n",
    "If the distance is a float, then just print the nearest integer.\n",
    "\n",
    "Example:\n",
    "\n",
    "Input:\n",
    "\n",
    "UP 5 DOWN 3 LEFT 3 RIGHT 2 ! Output:\n",
    "\n",
    "2\n",
    "\n"
   ]
  },
  {
   "cell_type": "code",
   "execution_count": 32,
   "id": "af8e63da-3c8c-418b-9506-4eefd1856ae0",
   "metadata": {},
   "outputs": [
    {
     "name": "stdout",
     "output_type": "stream",
     "text": [
      "2\n"
     ]
    }
   ],
   "source": [
    "import math\n",
    "\n",
    "trace = \"UP 5 DOWN 3 LEFT 3 RIGHT 2\"\n",
    "movements = trace.split()\n",
    "x, y = 0, 0\n",
    "for i in range(0, len(movements), 2):\n",
    "    direction = movements[i]\n",
    "    steps = int(movements[i+1])\n",
    "    if direction == \"UP\":\n",
    "        y += steps\n",
    "    elif direction == \"DOWN\":\n",
    "        y -= steps\n",
    "    elif direction == \"LEFT\":\n",
    "        x -= steps\n",
    "    elif direction == \"RIGHT\":\n",
    "        x += steps\n",
    "\n",
    "distance = round(math.sqrt(x**2 + y**2))\n",
    "print(distance)"
   ]
  },
  {
   "cell_type": "markdown",
   "id": "7d6e5a3e-20f3-4e82-baca-9c50ad44c7bb",
   "metadata": {},
   "source": [
    "### Problem 12:Write a program to print whether a given number is a prime number or not\n"
   ]
  },
  {
   "cell_type": "code",
   "execution_count": 33,
   "id": "94948b71-0c0d-4472-8293-e0507d6e8e4e",
   "metadata": {},
   "outputs": [
    {
     "name": "stdout",
     "output_type": "stream",
     "text": [
      "5 is a prime number\n"
     ]
    }
   ],
   "source": [
    "num = 5\n",
    "if num > 1:\n",
    "    for i in range(2, (num//2)+1):\n",
    "        if (num % i) == 0:\n",
    "            print(num, \"is not a prime number\")\n",
    "            break\n",
    "    else:\n",
    "        print(num, \"is a prime number\")\n",
    "else:\n",
    "    print(num, \"is not a prime number\")"
   ]
  },
  {
   "cell_type": "markdown",
   "id": "9b286953-b5fe-443a-800b-461c5f922880",
   "metadata": {},
   "source": [
    "### Problem 13:Print all the Armstrong numbers in a given range.\n",
    "Range will be provided by the user Armstrong number is a number that is equal to the sum of cubes of its digits. For example 0, 1, 153, 370, 371 and 407 are the Armstrong numbers."
   ]
  },
  {
   "cell_type": "code",
   "execution_count": 34,
   "id": "92f06ac6-8efc-4121-abd6-0df6f15eab44",
   "metadata": {},
   "outputs": [
    {
     "name": "stdin",
     "output_type": "stream",
     "text": [
      "Enter a number: 234\n"
     ]
    },
    {
     "name": "stdout",
     "output_type": "stream",
     "text": [
      "234 is not an Armstrong number\n"
     ]
    }
   ],
   "source": [
    "num = int(input(\"Enter a number:\"))\n",
    "sum = 0\n",
    "temp = num\n",
    "while temp > 0:\n",
    "   digit = temp % 10\n",
    "   sum += digit ** 3\n",
    "   temp //= 10\n",
    "if num == sum:\n",
    "   print(num,\"is an Armstrong number\")\n",
    "else:\n",
    "   print(num,\"is not an Armstrong number\")"
   ]
  },
  {
   "cell_type": "markdown",
   "id": "4870d277-99e5-49a9-95cf-bd5a2b6dfcd6",
   "metadata": {},
   "source": [
    "### Problem 14:Calculate the angle between the hour hand and minute hand.\n",
    "Note: There can be two angles between hands; we need to print a minimum of two. Also, we need to print the floor of the final result angle. For example, if the final angle is 10.61, we need to print 10.\n",
    "\n",
    "Input: H = 9 , M = 0 Output: 90 Explanation: The minimum angle between hour and minute hand when the time is 9 is 90 degress."
   ]
  },
  {
   "cell_type": "code",
   "execution_count": 35,
   "id": "9b011744-0a16-4c78-8fdf-784524817917",
   "metadata": {},
   "outputs": [
    {
     "name": "stdout",
     "output_type": "stream",
     "text": [
      "90\n"
     ]
    }
   ],
   "source": [
    "def calculate_angle(H, M):\n",
    "    hour_angle = 0.5 * (H * 60 + M)\n",
    "    minute_angle = 6 * M\n",
    "    angle = abs(hour_angle - minute_angle)\n",
    "    if angle > 180:\n",
    "        angle = 360 - angle\n",
    "    return math.floor(angle)\n",
    "\n",
    "H = 9\n",
    "M = 0\n",
    "print(calculate_angle(H, M))"
   ]
  },
  {
   "cell_type": "markdown",
   "id": "ddf5d4cc-8728-4956-a540-0f002209a03f",
   "metadata": {},
   "source": [
    "### Problem 15:Given two rectangles, find if the given two rectangles overlap or not. A rectangle is denoted by providing the x and y coordinates of two points: the left top corner and the right bottom corner of the rectangle. Two rectangles sharing a side are considered overlapping. (L1 and R1 are the extreme points of the first rectangle and L2 and R2 are the extreme points of the second rectangle).\n",
    "Note: It may be assumed that the rectangles are parallel to the coordinate axis."
   ]
  },
  {
   "cell_type": "code",
   "execution_count": 37,
   "id": "4a7f4a7b-1cd2-4b10-9101-fba949818393",
   "metadata": {},
   "outputs": [
    {
     "name": "stdout",
     "output_type": "stream",
     "text": [
      "Rectangles overlap\n"
     ]
    }
   ],
   "source": [
    "def do_overlap(L1, R1, L2, R2):\n",
    "    if L1[0] >= R2[0] or L2[0] >= R1[0]:\n",
    "        return False\n",
    "    if L1[1] <= R2[1] or L2[1] <= R1[1]:\n",
    "        return False\n",
    "\n",
    "    return True\n",
    "\n",
    "L1 = (0, 10)\n",
    "R1 = (10, 0)\n",
    "L2 = (5, 5)\n",
    "R2 = (15, 5)\n",
    "\n",
    "if do_overlap(L1, R1, L2, R2):\n",
    "    print(\"Rectangles overlap\")\n",
    "else:\n",
    "    print(\"Rectangles do not overlap\")"
   ]
  },
  {
   "cell_type": "code",
   "execution_count": null,
   "id": "413d0455-0a63-44b1-a1d9-0e64e971be96",
   "metadata": {},
   "outputs": [],
   "source": []
  }
 ],
 "metadata": {
  "kernelspec": {
   "display_name": "Python 3 (ipykernel)",
   "language": "python",
   "name": "python3"
  },
  "language_info": {
   "codemirror_mode": {
    "name": "ipython",
    "version": 3
   },
   "file_extension": ".py",
   "mimetype": "text/x-python",
   "name": "python",
   "nbconvert_exporter": "python",
   "pygments_lexer": "ipython3",
   "version": "3.11.7"
  }
 },
 "nbformat": 4,
 "nbformat_minor": 5
}
