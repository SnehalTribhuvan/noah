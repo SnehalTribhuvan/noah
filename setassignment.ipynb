{
 "cells": [
  {
   "cell_type": "markdown",
   "id": "25aed581-1b68-40dd-a2a6-d4d4d53cfd4e",
   "metadata": {},
   "source": [
    "### Q1: Write a program to find set of common elements in three lists using sets.\n",
    "Input : ar1 = [1, 5, 10, 20, 40, 80]\n",
    "        ar2 = [6, 7, 20, 80, 100]\n",
    "        ar3 = [3, 4, 15, 20, 30, 70, 80, 120]\n",
    "\n",
    "Output : [80, 20]"
   ]
  },
  {
   "cell_type": "code",
   "execution_count": 39,
   "id": "162c8e31-b8ec-4466-bbb5-8f455f99cb87",
   "metadata": {},
   "outputs": [
    {
     "name": "stdout",
     "output_type": "stream",
     "text": [
      "{80, 20}\n"
     ]
    }
   ],
   "source": [
    "def find_common(list1, list2, list3):\n",
    "    common = set()\n",
    "    for elem in list1:\n",
    "        if elem in list2 and elem in list3:\n",
    "            common.add(elem)\n",
    "    return common\n",
    " \n",
    "list1 = [1, 5, 10, 20, 40, 80]\n",
    "list2 = [6, 7, 20, 80, 100]\n",
    "list3 = [3, 4, 15, 20, 30, 70, 80, 120]\n",
    " \n",
    "common = find_common(list1, list2, list3)\n",
    "print(common)"
   ]
  },
  {
   "cell_type": "markdown",
   "id": "e350b88e-c3b6-48a5-87ed-a2a5f5ceb6bc",
   "metadata": {},
   "source": [
    "### Q2: Write a program to count unique number of vowels using sets in a given string. Lowercase and upercase vowels will be taken as different.\n",
    "Input:\n",
    "\n",
    "Str1 = \"hands-on data science mentorship progrAm with live classes at affordable fee only on CampusX\"\n",
    "Output:\n",
    "\n",
    "No of unique vowels-6"
   ]
  },
  {
   "cell_type": "code",
   "execution_count": 40,
   "id": "6c27eba7-9e4b-4145-be65-e856721e71fc",
   "metadata": {},
   "outputs": [
    {
     "name": "stdout",
     "output_type": "stream",
     "text": [
      "No of unique vowels: 1\n",
      "No of unique vowels: 2\n",
      "No of unique vowels: 2\n",
      "No of unique vowels: 2\n",
      "No of unique vowels: 3\n",
      "No of unique vowels: 4\n",
      "No of unique vowels: 4\n",
      "No of unique vowels: 4\n",
      "No of unique vowels: 4\n",
      "No of unique vowels: 4\n",
      "No of unique vowels: 4\n",
      "No of unique vowels: 5\n",
      "No of unique vowels: 5\n",
      "No of unique vowels: 5\n",
      "No of unique vowels: 5\n",
      "No of unique vowels: 5\n",
      "No of unique vowels: 5\n",
      "No of unique vowels: 5\n",
      "No of unique vowels: 5\n",
      "No of unique vowels: 5\n",
      "No of unique vowels: 5\n",
      "No of unique vowels: 5\n",
      "No of unique vowels: 5\n",
      "No of unique vowels: 5\n",
      "No of unique vowels: 5\n",
      "No of unique vowels: 5\n",
      "No of unique vowels: 5\n",
      "No of unique vowels: 6\n"
     ]
    }
   ],
   "source": [
    "Str1 = \"hands-on data science mentorship progrAm with live classes at affordable fee only on CampusX\"\n",
    "vowels = {'a', 'e', 'i', 'o', 'u', 'A', 'E', 'I', 'O', 'U'}\n",
    "unique_vowels = set()\n",
    "for char in Str1:\n",
    "    if char in vowels:\n",
    "        unique_vowels.add(char)\n",
    "        num_unique_vowels = len(unique_vowels)\n",
    "        print(\"No of unique vowels:\", num_unique_vowels)"
   ]
  },
  {
   "cell_type": "markdown",
   "id": "00b955d2-203d-4f53-8d05-7fd25affdea6",
   "metadata": {},
   "source": [
    "### Q3: Write a program to Check if a given string is binary string of or not.\n",
    "A string is said to be binary if it's consists of only two unique characters.\n",
    "\n",
    "Take string input from user.\n",
    "\n",
    "Input: str = \"01010101010\"\n",
    "Output: Yes\n",
    "\n",
    "Input: str = \"1222211\"\n",
    "Output: Yes\n",
    "\n",
    "Input: str = \"Campusx\"\n",
    "Output: No"
   ]
  },
  {
   "cell_type": "code",
   "execution_count": 41,
   "id": "6083fccf-1ee5-4320-bc20-6f5d72fe8af8",
   "metadata": {},
   "outputs": [
    {
     "name": "stdout",
     "output_type": "stream",
     "text": [
      "No\n",
      "No\n",
      "No\n"
     ]
    }
   ],
   "source": [
    "str = \"01010101010\"\n",
    "str1 = \"1222211\"\n",
    "str2 = \"Campusx\"\n",
    "if len(str) == 2:\n",
    "  print(\"Yes\")\n",
    "else:\n",
    "  print(\"No\")\n",
    "if len(str1) == 2:\n",
    "  print(\"Yes\")\n",
    "else:\n",
    "  print(\"No\")\n",
    "if len(str2) == 1:\n",
    "  print(\"Yes\")\n",
    "else:\n",
    "  print(\"No\")   "
   ]
  },
  {
   "cell_type": "markdown",
   "id": "5696a0fb-05f8-4a29-8765-4fb05a10a629",
   "metadata": {},
   "source": [
    "### Q4: find union of n arrays.\n",
    "Example 1:\n",
    "\n",
    "Input:\n",
    "\n",
    "[[1, 2, 2, 4, 3, 6],\n",
    " [5, 1, 3, 4],\n",
    " [9, 5, 7, 1],\n",
    " [2, 4, 1, 3]]\n",
    "Output:\n",
    "\n",
    "[1, 2, 3, 4, 5, 6, 7, 9]"
   ]
  },
  {
   "cell_type": "code",
   "execution_count": 42,
   "id": "eb710eb5-57ea-4747-90a4-9602cdfe8e23",
   "metadata": {},
   "outputs": [
    {
     "name": "stdout",
     "output_type": "stream",
     "text": [
      "[1, 2, 3, 4, 5, 6, 7, 9]\n"
     ]
    }
   ],
   "source": [
    "arrays = [[1, 2, 2, 4, 3, 6],\n",
    "     [5, 1, 3, 4],\n",
    "     [9, 5, 7, 1],\n",
    "     [2, 4, 1, 3]]\n",
    "union_set = set()\n",
    "for array in arrays:\n",
    "    union_set.update(array)\n",
    "union_list = sorted(list(union_set))\n",
    "print(union_list)"
   ]
  },
  {
   "cell_type": "markdown",
   "id": "12abb92f-267b-4f10-90af-157276981b40",
   "metadata": {},
   "source": [
    "### Q5: Intersection of two lists. Intersection of two list means we need to take all those elements which are common to both of the initial lists and store them into another list. Only use using list-comprehension.\n",
    "Example 1:\n",
    "\n",
    "Input:\n",
    "\n",
    "lst1 = {15, 9, 10, 56, 23, 78, 5, 4, 9}\n",
    "lst2 = {9, 4, 5, 36, 47, 26, 10, 45, 87}\n",
    "Output:\n",
    "\n",
    "[9, 10, 4, 5]"
   ]
  },
  {
   "cell_type": "code",
   "execution_count": 44,
   "id": "297b7086-bc04-4815-8d04-0908de94da1b",
   "metadata": {},
   "outputs": [
    {
     "name": "stdout",
     "output_type": "stream",
     "text": [
      "[9, 10, 4, 5]\n"
     ]
    }
   ],
   "source": [
    "def intersection(lst1, lst2):\n",
    "    return list(set(lst1) & set(lst2))\n",
    "lst1 = [15, 9, 10, 56, 23, 78, 5, 4, 9]\n",
    "lst2 = [9, 4, 5, 36, 47, 26, 10, 45, 87]\n",
    "print(intersection(lst1, lst2))"
   ]
  },
  {
   "cell_type": "markdown",
   "id": "2d0ae8ea-2bba-4eea-8943-3aef30142cc4",
   "metadata": {},
   "source": [
    "### Example 2:\n",
    "\n",
    "Input:\n",
    "\n",
    "lst1 = {4, 9, 1, 17, 11, 26, 28, 54, 69}\n",
    "lst2 = {9, 9, 74, 21, 45, 11, 63, 28, 26}\n",
    "Output:\n",
    "\n",
    "[9, 11, 26, 28]"
   ]
  },
  {
   "cell_type": "code",
   "execution_count": 45,
   "id": "5126de60-85d7-4627-bc02-de0b64e7f3cf",
   "metadata": {},
   "outputs": [
    {
     "name": "stdout",
     "output_type": "stream",
     "text": [
      "[9, 11, 26, 28]\n"
     ]
    }
   ],
   "source": [
    "def intersection(lst1, lst2):\n",
    "    lst3 = [value for value in lst1 if value in lst2]\n",
    "    return lst3\n",
    "lst1 = [4, 9, 1, 17, 11, 26, 28, 54, 69]\n",
    "lst2 = [9, 9, 74, 21, 45, 11, 63, 28, 26]\n",
    "print(intersection(lst1, lst2))"
   ]
  }
 ],
 "metadata": {
  "kernelspec": {
   "display_name": "Python 3 (ipykernel)",
   "language": "python",
   "name": "python3"
  },
  "language_info": {
   "codemirror_mode": {
    "name": "ipython",
    "version": 3
   },
   "file_extension": ".py",
   "mimetype": "text/x-python",
   "name": "python",
   "nbconvert_exporter": "python",
   "pygments_lexer": "ipython3",
   "version": "3.11.7"
  }
 },
 "nbformat": 4,
 "nbformat_minor": 5
}
