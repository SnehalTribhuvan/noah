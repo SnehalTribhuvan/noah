{
 "cells": [
  {
   "cell_type": "markdown",
   "id": "6f23fb49-5b83-4b92-bb9d-6796fa1ec2d3",
   "metadata": {},
   "source": [
    "### Problem 1 - Print the following pattern. Write a program to use for loop to print the following reverse number pattern.\n",
    "5 4 3 2 1 4 3 2 1 3 2 1 2 1 1"
   ]
  },
  {
   "cell_type": "code",
   "execution_count": 1,
   "id": "9c29513b-ca6f-4887-b880-3eff504e43ff",
   "metadata": {},
   "outputs": [
    {
     "name": "stdout",
     "output_type": "stream",
     "text": [
      "54321\n",
      "4321\n",
      "321\n",
      "21\n",
      "1\n"
     ]
    }
   ],
   "source": [
    "def pattern(n): \n",
    "    for i in range(n,0,-1): \n",
    "        for j in range(i, 0, -1): \n",
    "            print(j, end='') \n",
    "        print() \n",
    "n = 5 \n",
    "pattern(n) "
   ]
  },
  {
   "cell_type": "markdown",
   "id": "84ee82f3-78ed-4a23-b3cf-44aa692d2b73",
   "metadata": {},
   "source": [
    "### Problem 2: Print the following pattern.\n",
    "* \n",
    "* *\n",
    "* * * \n",
    "* * * * \n",
    "* * * * * \n",
    "* * * * \n",
    "* * * \n",
    "* * \n",
    "*\n",
    "* * \n",
    "*"
   ]
  },
  {
   "cell_type": "code",
   "execution_count": 2,
   "id": "8a18537c-2571-460d-ac4c-c3867f10cc0a",
   "metadata": {},
   "outputs": [
    {
     "name": "stdout",
     "output_type": "stream",
     "text": [
      "* \n",
      "* * \n",
      "* * * \n",
      "* * * * \n",
      "* * * * * \n",
      "* * * * \n",
      "* * * \n",
      "* * \n",
      "* \n",
      "\n"
     ]
    }
   ],
   "source": [
    "rows = 5\n",
    "for i in range(0, rows):\n",
    "    for j in range(0, i + 1):\n",
    "        print(\"*\", end=' ')\n",
    "    print(\"\\r\")\n",
    "\n",
    "for i in range(rows, 0, -1):\n",
    "    for j in range(0, i - 1):\n",
    "        print(\"*\", end=' ')\n",
    "    print(\"\\r\")"
   ]
  },
  {
   "cell_type": "markdown",
   "id": "ded7c077-8e67-4c2a-96b7-3675f8cc0aec",
   "metadata": {},
   "source": [
    "### Problem 3:Write a program to pring the following pattern\n",
    "  \n",
    "    *\n",
    "  * * *\n",
    "* * * * *"
   ]
  },
  {
   "cell_type": "code",
   "execution_count": 4,
   "id": "42c22501-9f22-4e18-a0a3-ba210b50fe7e",
   "metadata": {},
   "outputs": [
    {
     "name": "stdout",
     "output_type": "stream",
     "text": [
      "  * \n",
      " * * * \n",
      "* * * * * \n"
     ]
    }
   ],
   "source": [
    "n = 3\n",
    "for i in range(1, n + 1):\n",
    "    print(' ' * (n - i) + '* ' * (2 * i - 1))"
   ]
  },
  {
   "cell_type": "markdown",
   "id": "9c6555a3-c85d-4d63-82f8-979e06eb6a3a",
   "metadata": {},
   "source": [
    "### Problem 4:Write a program to print the following pattern\n",
    "1\n",
    "\n",
    "2 1\n",
    "\n",
    "3 2 1\n",
    "\n",
    "4 3 2 1\n",
    "\n",
    "5 4 3 2 1"
   ]
  },
  {
   "cell_type": "code",
   "execution_count": 5,
   "id": "dba8bae1-b377-43bd-9d27-2f6795ca01e2",
   "metadata": {},
   "outputs": [
    {
     "name": "stdout",
     "output_type": "stream",
     "text": [
      "1 \n",
      "2 1 \n",
      "3 2 1 \n",
      "4 3 2 1 \n",
      "5 4 3 2 1 \n"
     ]
    }
   ],
   "source": [
    "rows = 6\n",
    "for i in range(1, rows):\n",
    "    for j in range(i, 0, -1):\n",
    "        print(j, end=' ')\n",
    "    print(\"\")"
   ]
  },
  {
   "cell_type": "markdown",
   "id": "2b627a12-7203-4830-8cfa-c254c385b925",
   "metadata": {},
   "source": [
    "### Problem 5: Write a Python Program to Find the Sum of the Series till the nth term:\n",
    "1 + x^2/2 + x^3/3 + … x^n/n\n",
    "n will be provided by the user"
   ]
  },
  {
   "cell_type": "code",
   "execution_count": 7,
   "id": "44915496-8a05-4764-be19-bffb5d3d9f04",
   "metadata": {},
   "outputs": [
    {
     "name": "stdin",
     "output_type": "stream",
     "text": [
      "Enter the value of n:  7\n",
      "Enter the value of x:  67\n"
     ]
    },
    {
     "name": "stdout",
     "output_type": "stream",
     "text": [
      "The sum of the series till the nth term is:  881167505947.2214\n"
     ]
    }
   ],
   "source": [
    "def calculate_series_sum(n, x):\n",
    "    sum = 1.0\n",
    "    for i in range(2, n + 1):\n",
    "        sum += (x ** i) / i\n",
    "    return sum\n",
    "\n",
    "n = int(input(\"Enter the value of n: \"))\n",
    "x = float(input(\"Enter the value of x: \"))\n",
    "\n",
    "result = calculate_series_sum(n, x)\n",
    "print(\"The sum of the series till the nth term is: \", result)"
   ]
  },
  {
   "cell_type": "markdown",
   "id": "a94ba261-3f1b-4679-88f3-b7cb233436cb",
   "metadata": {},
   "source": [
    "### Problem 6: The natural logarithm can be approximated by the following series.\n",
    "temp.jpg\n",
    "\n",
    "If x is input through the keyboard, write a program to calculate the sum of the first seven terms of this series."
   ]
  },
  {
   "cell_type": "code",
   "execution_count": 8,
   "id": "c67cb2c5-10d7-4669-bbf5-69d427ff86d9",
   "metadata": {},
   "outputs": [
    {
     "name": "stdin",
     "output_type": "stream",
     "text": [
      "Enter the value of x:  4\n"
     ]
    },
    {
     "name": "stdout",
     "output_type": "stream",
     "text": [
      "The sum of the first seven terms of the series is:  226.77857142857144\n"
     ]
    }
   ],
   "source": [
    "import math\n",
    "\n",
    "def calculate_ln_series(x, n):\n",
    "    sum = 0.0\n",
    "    for i in range(1, n + 1):\n",
    "        sum += ((-1) ** (i - 1)) * ((x - 1) ** i) / i\n",
    "    return sum\n",
    "\n",
    "x = float(input(\"Enter the value of x: \"))\n",
    "\n",
    "result = calculate_ln_series(x, 7)\n",
    "print(\"The sum of the first seven terms of the series is: \", result)"
   ]
  },
  {
   "cell_type": "markdown",
   "id": "fd7ab969-99cb-4693-afb2-628b915b1108",
   "metadata": {},
   "source": [
    "### Problem 7 - Find the sum of the series upto n terms.\n",
    "Write a program to calculate the sum of series up to n term. For example, if n =5 the series will become 2 + 22 + 222 + 2222 + 22222 = 24690. Take the user input and then calculate. And the output style should match which is given in the example.\n",
    "\n",
    "Example 1:\n",
    "\n",
    "Input:\n",
    "\n",
    "5 Output:\n",
    "\n",
    "2+22+222+2222+22222 Sum of above series is: 24690"
   ]
  },
  {
   "cell_type": "code",
   "execution_count": 10,
   "id": "178ef434-30f7-4ef6-a6a0-94643a3627f3",
   "metadata": {},
   "outputs": [
    {
     "name": "stdin",
     "output_type": "stream",
     "text": [
      "Enter the number of terms:  5\n"
     ]
    },
    {
     "name": "stdout",
     "output_type": "stream",
     "text": [
      "2+22+222+2222+22222 Sum of above series is: 24690\n"
     ]
    }
   ],
   "source": [
    "def calculate_series_sum(n):\n",
    "    sum = 0\n",
    "    series = \"\"\n",
    "    for i in range(1, n + 1):\n",
    "        term = int(\"2\" * i)\n",
    "        sum += term\n",
    "        series += str(term)\n",
    "        if i < n:\n",
    "            series += \"+\"\n",
    "    print(series, \"Sum of above series is:\", sum)\n",
    "\n",
    "n = int(input(\"Enter the number of terms: \"))\n",
    "calculate_series_sum(n)\n"
   ]
  },
  {
   "cell_type": "markdown",
   "id": "37375afc-d7b4-4c90-9aac-afeaafb0d6c9",
   "metadata": {},
   "source": [
    "### Problem 8: Write a program to print all the unique combinations of 1,2,3 and 4\n",
    "Output:\n",
    "\n",
    "1 2 3 4 1 2 4 3 1 3 2 4 1 3 4 2 1 4 2 3 1 4 3 2 2 1 3 4 2 1 4 3 2 3 1 4 2 3 4 1 2 4 1 3 . . and so on\n",
    "\n"
   ]
  },
  {
   "cell_type": "code",
   "execution_count": 14,
   "id": "64820817-a89d-4612-af9c-4073a7255ca1",
   "metadata": {},
   "outputs": [
    {
     "name": "stdout",
     "output_type": "stream",
     "text": [
      "1 2 3 4  1 2 4 3  1 3 2 4  1 3 4 2  1 4 2 3  1 4 3 2  2 1 3 4  2 1 4 3  2 3 1 4  2 3 4 1  2 4 1 3  2 4 3 1  3 1 2 4  3 1 4 2  3 2 1 4  3 2 4 1  3 4 1 2  3 4 2 1  4 1 2 3  4 1 3 2  4 2 1 3  4 2 3 1  4 3 1 2  4 3 2 1  "
     ]
    }
   ],
   "source": [
    "import itertools\n",
    "\n",
    "numbers = [1, 2, 3, 4]\n",
    "combinations = itertools.permutations(numbers)\n",
    "\n",
    "for combination in combinations:\n",
    "    for num in combination:\n",
    "        print(num, end=' ')\n",
    "    print(end=' ')"
   ]
  },
  {
   "cell_type": "markdown",
   "id": "912d6bf1-1d9f-4240-b853-4b678187108a",
   "metadata": {},
   "source": [
    "### Problem 9: Write a program that will take a decimal number as input and prints out the binary equivalent of the number"
   ]
  },
  {
   "cell_type": "code",
   "execution_count": 15,
   "id": "70e4a44b-2cb9-4748-8f35-0af98dd1bacb",
   "metadata": {},
   "outputs": [
    {
     "name": "stdin",
     "output_type": "stream",
     "text": [
      "Enter a decimal number:  34\n"
     ]
    },
    {
     "name": "stdout",
     "output_type": "stream",
     "text": [
      "The binary representation of 34 is 100010\n"
     ]
    }
   ],
   "source": [
    "def decimal_to_binary():\n",
    "    decimal_num = int(input(\"Enter a decimal number: \"))\n",
    "    binary_num = bin(decimal_num).replace(\"0b\", \"\")\n",
    "    print(\"The binary representation of\", decimal_num, \"is\", binary_num)\n",
    "\n",
    "decimal_to_binary()"
   ]
  },
  {
   "cell_type": "markdown",
   "id": "7fc041a0-acf9-4f0c-9e19-901193c0e388",
   "metadata": {},
   "source": [
    "### Problem 10: Write a program that will take 2 numbers as input and prints the LCM and HCF of those 2 numbers"
   ]
  },
  {
   "cell_type": "code",
   "execution_count": 16,
   "id": "02c99f35-b9c1-45b9-b4ed-93c03f21d628",
   "metadata": {},
   "outputs": [
    {
     "name": "stdin",
     "output_type": "stream",
     "text": [
      "Enter the first number:  34\n",
      "Enter the second number:  345\n"
     ]
    },
    {
     "name": "stdout",
     "output_type": "stream",
     "text": [
      "HCF of the numbers is:  1\n",
      "LCM of the number is:  11730\n"
     ]
    }
   ],
   "source": [
    "a = int(input(\"Enter the first number: \"))\n",
    "b = int(input(\"Enter the second number: \"))\n",
    "\n",
    "HCF = 1\n",
    "\n",
    "for i in range(2,a+1):\n",
    "    if(a%i==0 and b%i==0):\n",
    "        HCF = i\n",
    "print(\"HCF of the numbers is: \",HCF)\n",
    "LCM=int((a*b)/(HCF))\n",
    "print(\"LCM of the number is: \",LCM)"
   ]
  },
  {
   "cell_type": "markdown",
   "id": "ca2eecb0-7371-4cbd-81d6-cdb0347976c4",
   "metadata": {},
   "source": [
    "### Problem 12: Append second string in the middle of first string\n",
    "Input:\n",
    "\n",
    "campusx data Output:\n",
    "\n",
    "camdatapusx"
   ]
  },
  {
   "cell_type": "code",
   "execution_count": 17,
   "id": "8a97faf4-76dc-4ead-b117-58d772602d9c",
   "metadata": {},
   "outputs": [
    {
     "name": "stdin",
     "output_type": "stream",
     "text": [
      "Enter the first string:  campusx data\n",
      "Enter the second string:  dta\n"
     ]
    },
    {
     "name": "stdout",
     "output_type": "stream",
     "text": [
      "The new string is: campusdtax data\n"
     ]
    }
   ],
   "source": [
    "def append_middle():\n",
    "    str1 = input(\"Enter the first string: \")\n",
    "    str2 = input(\"Enter the second string: \")\n",
    "    \n",
    "    middle_index = len(str1) // 2\n",
    "    new_str = str1[:middle_index] + str2 + str1[middle_index:]\n",
    "    \n",
    "    print(\"The new string is:\", new_str)\n",
    "\n",
    "append_middle()"
   ]
  },
  {
   "cell_type": "markdown",
   "id": "100009ed-a2df-4129-a5b7-3b505d5c8ace",
   "metadata": {},
   "source": [
    "### Problem 13:Given string contains a combination of the lower and upper case letters. Write a program to arrange the characters of a string so that all lowercase letters should come first.\n",
    "Given:\n",
    "\n",
    "str1 = PyNaTive\n",
    "\n",
    "Expected Output:\n",
    "\n",
    "yaivePNT"
   ]
  },
  {
   "cell_type": "code",
   "execution_count": 18,
   "id": "97985d9a-c000-466e-9318-da96c77a7226",
   "metadata": {},
   "outputs": [
    {
     "name": "stdin",
     "output_type": "stream",
     "text": [
      "Enter a string:  POIKijhgvIUGYHVjhb\n"
     ]
    },
    {
     "name": "stdout",
     "output_type": "stream",
     "text": [
      "The arranged string is: ijhgvjhbPOIKIUGYHV\n"
     ]
    }
   ],
   "source": [
    "def arrange_string():\n",
    "    str1 = input(\"Enter a string: \")\n",
    "    \n",
    "    lowercase_chars = [char for char in str1 if char.islower()]\n",
    "    uppercase_chars = [char for char in str1 if char.isupper()]\n",
    "    \n",
    "    new_str = ''.join(lowercase_chars + uppercase_chars)\n",
    "    \n",
    "    print(\"The arranged string is:\", new_str)\n",
    "\n",
    "arrange_string()"
   ]
  },
  {
   "cell_type": "markdown",
   "id": "129da01f-00ca-4ec4-8f5c-89ca6be1a037",
   "metadata": {},
   "source": [
    "### Problem 14:Take a alphanumeric string input and print the sum and average of the digits that appear in the string, ignoring all other characters.\n",
    "Input:\n",
    "\n",
    "hel123O4every093\n",
    "\n",
    "Output:\n",
    "\n",
    "Sum: 22\n",
    "Avg: 2.75"
   ]
  },
  {
   "cell_type": "code",
   "execution_count": 19,
   "id": "b966e270-352c-45c4-93dd-d47a30687187",
   "metadata": {},
   "outputs": [
    {
     "name": "stdin",
     "output_type": "stream",
     "text": [
      "Enter an alphanumeric string:  hel12304every093\n"
     ]
    },
    {
     "name": "stdout",
     "output_type": "stream",
     "text": [
      "Sum: 22\n",
      "Avg: 2.75\n"
     ]
    }
   ],
   "source": [
    "def sum_and_avg_of_digits():\n",
    "    str1 = input(\"Enter an alphanumeric string: \")\n",
    "    \n",
    "    digits = [int(char) for char in str1 if char.isdigit()]\n",
    "    \n",
    "    if len(digits) == 0:\n",
    "        print(\"There are no digits in the string.\")\n",
    "    else:\n",
    "        total_sum = sum(digits)\n",
    "        avg = total_sum / len(digits)\n",
    "        \n",
    "        print(\"Sum:\", total_sum)\n",
    "        print(\"Avg:\", avg)\n",
    "\n",
    "sum_and_avg_of_digits()"
   ]
  },
  {
   "cell_type": "markdown",
   "id": "a3247f54-411a-4efb-9fd3-54e665f5335f",
   "metadata": {},
   "source": [
    "### Problem 15: Removal of all characters from a string except integers\n",
    "Given:\n",
    "\n",
    "str1 = 'I am 25 years and 10 months old'\n",
    "Expected Output:\n",
    "\n",
    "2510"
   ]
  },
  {
   "cell_type": "code",
   "execution_count": 4,
   "id": "2e84a431-e720-4653-b3ab-d0b51724aabd",
   "metadata": {},
   "outputs": [
    {
     "ename": "ModuleNotFoundError",
     "evalue": "No module named 'str'",
     "output_type": "error",
     "traceback": [
      "\u001b[1;31m---------------------------------------------------------------------------\u001b[0m",
      "\u001b[1;31mModuleNotFoundError\u001b[0m                       Traceback (most recent call last)",
      "Cell \u001b[1;32mIn[4], line 1\u001b[0m\n\u001b[1;32m----> 1\u001b[0m \u001b[38;5;28;01mimport\u001b[39;00m \u001b[38;5;21;01mstr\u001b[39;00m\n\u001b[0;32m      3\u001b[0m str1 \u001b[38;5;241m=\u001b[39m \u001b[38;5;124m'\u001b[39m\u001b[38;5;124mI am 25 years and 10 months old\u001b[39m\u001b[38;5;124m'\u001b[39m\n\u001b[0;32m      4\u001b[0m result \u001b[38;5;241m=\u001b[39m \u001b[38;5;28mstr\u001b[39m\u001b[38;5;241m.\u001b[39msub(\u001b[38;5;124mr\u001b[39m\u001b[38;5;124m'\u001b[39m\u001b[38;5;124m[^\u001b[39m\u001b[38;5;124m\\\u001b[39m\u001b[38;5;124md]\u001b[39m\u001b[38;5;124m'\u001b[39m, \u001b[38;5;124m'\u001b[39m\u001b[38;5;124m'\u001b[39m, str1)\n",
      "\u001b[1;31mModuleNotFoundError\u001b[0m: No module named 'str'"
     ]
    }
   ],
   "source": []
  },
  {
   "cell_type": "code",
   "execution_count": null,
   "id": "7cfd32a7-2662-4e16-985c-3736dde4f5ac",
   "metadata": {},
   "outputs": [],
   "source": []
  }
 ],
 "metadata": {
  "kernelspec": {
   "display_name": "Python 3 (ipykernel)",
   "language": "python",
   "name": "python3"
  },
  "language_info": {
   "codemirror_mode": {
    "name": "ipython",
    "version": 3
   },
   "file_extension": ".py",
   "mimetype": "text/x-python",
   "name": "python",
   "nbconvert_exporter": "python",
   "pygments_lexer": "ipython3",
   "version": "3.11.7"
  }
 },
 "nbformat": 4,
 "nbformat_minor": 5
}
