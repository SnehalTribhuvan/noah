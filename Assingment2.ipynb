{
 "cells": [
  {
   "cell_type": "markdown",
   "id": "f10c4af6-45da-417c-b9f9-d4a0aa9a0acc",
   "metadata": {},
   "source": [
    "### Tuple:"
   ]
  },
  {
   "cell_type": "markdown",
   "id": "9713c5d6-b362-43d8-8dac-6084beb179da",
   "metadata": {},
   "source": [
    "### Q1)  Join Tuples if similar initial element\n",
    "While working with Python tuples, we can have a problem in which we need to perform concatenation of records from the similarity of initial element. This problem can have applications in data domains such as Data Science.\n",
    "\n",
    "For eg.\n",
    "\n",
    "Input  : test_list = [(5, 6), (5, 7), (5, 8), (6, 10), (7, 13)] \n",
    "Output : [(5, 6, 7, 8), (6, 10), (7, 13)] "
   ]
  },
  {
   "cell_type": "code",
   "execution_count": 1,
   "id": "693d733f-b359-48fc-ad5d-4839ba5c49d3",
   "metadata": {},
   "outputs": [
    {
     "name": "stdout",
     "output_type": "stream",
     "text": [
      "The original list is : [(5, 6), (5, 7), (5, 8), (6, 10), (7, 13)]\n",
      "The extracted elements : [(5, 6, 7, 8), (6, 10), (7, 13)]\n"
     ]
    }
   ],
   "source": [
    "test_list = [(5, 6), (5, 7), (5, 8), (6, 10), (7, 13)]\n",
    "\n",
    "print(\"The original list is : \" + str(test_list))\n",
    " \n",
    "output_list = []\n",
    "for sub in test_list:\n",
    "    if output_list and output_list[-1][0] == sub[0]:\n",
    "        output_list[-1].extend(sub[1:])\n",
    "    else:\n",
    "        output_list.append([ele for ele in sub])\n",
    "output_list = list(map(tuple, output_list))\n",
    " \n",
    "print(\"The extracted elements : \" + str(output_list))"
   ]
  },
  {
   "cell_type": "code",
   "execution_count": null,
   "id": "0cdfd00b-6c77-46a2-89e9-bec4c9d6ee9f",
   "metadata": {},
   "outputs": [],
   "source": [
    "## Q2) Multiply Adjacent elements (both side) and take sum of right and lest side multiplication result.\n",
    "For eg.\n",
    "\n",
    "The original tuple : (1, 5, 7, 8, 10)\n",
    "Resultant tuple after multiplication : \n",
    "\n",
    "(1*5, 1*5+5*7, 7*5 + 7*8, 8*7 + 8*10, 10*8) -> (5, 40, 91, 136, 80)\n",
    "\n",
    "output-(5, 40, 91, 136, 80)"
   ]
  },
  {
   "cell_type": "code",
   "execution_count": 2,
   "id": "ee89557c-32af-4c6b-93ba-4fd393627c3c",
   "metadata": {},
   "outputs": [
    {
     "name": "stdout",
     "output_type": "stream",
     "text": [
      "(2801, 561, 85, 45, 281)\n"
     ]
    }
   ],
   "source": [
    "def multiply_and_sum_adjacent_elements(ot):\n",
    "    result = []\n",
    "    for i in range(len(ot)):\n",
    "        left_product = 1\n",
    "        right_product = 1\n",
    "        for j in range(i):\n",
    "            left_product *= ot[j]\n",
    "        for k in range(i + 1, len(ot)):\n",
    "            right_product *= ot[k]\n",
    "        result.append(left_product + right_product)\n",
    "    return tuple(result)\n",
    "\n",
    "ot = (1,5,7,8,10)\n",
    "rt = multiply_and_sum_adjacent_elements(ot)\n",
    "print(rt)"
   ]
  },
  {
   "cell_type": "code",
   "execution_count": null,
   "id": "8b07cd11-b28b-45a4-825e-04f106c76780",
   "metadata": {},
   "outputs": [],
   "source": [
    "## Q3) Check is tuples are same or not?\n",
    "Two tuples would be same if both tuples have same element at same index\n",
    "\n",
    "t1 = (1,2,3,0)\n",
    "t2 = (0,1,2,3)\n",
    "\n",
    "t1 and t2 are not same"
   ]
  },
  {
   "cell_type": "code",
   "execution_count": 3,
   "id": "4707a010-1c6c-47da-bae9-6668faa2da42",
   "metadata": {},
   "outputs": [
    {
     "name": "stdout",
     "output_type": "stream",
     "text": [
      "Tuple are same.\n"
     ]
    }
   ],
   "source": [
    "t1 = (1,2,3,4)\n",
    "t2 = (1,2,3,4)\n",
    "if t1 == t2:\n",
    "    print(\"Tuple are same.\")\n",
    "else:\n",
    "    print(\"Tuple are not same.\")"
   ]
  },
  {
   "cell_type": "code",
   "execution_count": null,
   "id": "b125ab81-fd21-4465-b80e-80928212aa53",
   "metadata": {},
   "outputs": [],
   "source": [
    "## Q4)  Count no of tuples, list and set from a list\n",
    "list1 = [{'hi', 'bye'},{'Geeks', 'forGeeks'},('a', 'b'),['hi', 'bye'],['a', 'b']]\n",
    "Output:\n",
    "\n",
    "List-2\n",
    "Set-2\n",
    "Tuples-1"
   ]
  },
  {
   "cell_type": "code",
   "execution_count": 4,
   "id": "40a432e6-b0e5-40fb-bbeb-450b06ba7ff4",
   "metadata": {},
   "outputs": [
    {
     "name": "stdout",
     "output_type": "stream",
     "text": [
      "Number of tuples: 0\n",
      "Number of lists: 0\n",
      "Number of sets: 2\n"
     ]
    }
   ],
   "source": [
    "my_list = [{'hi', 'bye'}, {'Geeks', 'forGeeks'}, 'a', 'b']\n",
    "\n",
    "tuple_count = 0\n",
    "list_count = 0\n",
    "set_count = 0\n",
    "\n",
    "for elem in my_list:\n",
    "    if isinstance(elem, tuple):\n",
    "        tuple_count += 1\n",
    "    elif isinstance(elem, list):\n",
    "        list_count += 1\n",
    "    elif isinstance(elem, set):\n",
    "        set_count += 1\n",
    "\n",
    "print(f\"Number of tuples: {tuple_count}\")\n",
    "print(f\"Number of lists: {list_count}\")\n",
    "print(f\"Number of sets: {set_count}\")\n",
    "\n"
   ]
  },
  {
   "cell_type": "code",
   "execution_count": null,
   "id": "5a535bd5-3b51-45b7-944e-e92e44f04920",
   "metadata": {},
   "outputs": [],
   "source": [
    "## Q5)  Shortlist Students for a Job role\n",
    "Ask user to input students record and store in tuples for each record. Then Ask user to input three things he wants in the candidate- Primary Skill, Higher Education, Year of Graduation.\n",
    "\n",
    "Show every students record in form of tuples if matches all required criteria.\n",
    "\n",
    "It is assumed that there will be only one primry skill.\n",
    "\n",
    "If no such candidate found, print No such candidate\n",
    "\n",
    "Input:\n",
    "\n",
    "Enter No of records- 2\n",
    "Enter Details of student-1\n",
    "Enter Student name- Manohar\n",
    "Enter Higher Education- B.Tech\n",
    "Enter Primary Skill- Python\n",
    "Enter Year of Graduation- 2022\n",
    "Enter Details of student-2\n",
    "Enter Student name- Ponian\n",
    "Enter Higher Education- B.Sc.\n",
    "Enter Primary Skill- C++\n",
    "Enter Year of Graduation- 2020\n",
    "\n",
    "Enter Job Role Requirement\n",
    "Enter Skill- Python\n",
    "Enter Higher Education- B.Tech\n",
    "Enter Year of Graduation- 2022\n",
    "\n",
    "Output:\n",
    "('Manohar', 'B.tech', 'Python', '2022')"
   ]
  },
  {
   "cell_type": "code",
   "execution_count": null,
   "id": "aa97810f-dab5-4754-8e6a-d94d44b7b347",
   "metadata": {},
   "outputs": [
    {
     "name": "stdin",
     "output_type": "stream",
     "text": [
      "Enter the number of students:  50\n",
      "Enter student name:  snehal\n",
      "Enter student's primary skill:  singing\n",
      "Enter student's higher education:  12th\n",
      "Enter student's year of graduation:  2025\n",
      "Enter student name:  1\n"
     ]
    }
   ],
   "source": [
    "\n",
    "num_students = int(input(\"Enter the number of students: \"))\n",
    "students = []  \n",
    "for _ in range(num_students):\n",
    "    name = input(\"Enter student name: \")\n",
    "    primary_skill = input(\"Enter student's primary skill: \")\n",
    "    higher_education = input(\"Enter student's higher education: \")\n",
    "    year_of_graduation = int(input(\"Enter student's year of graduation: \"))\n",
    "    students.append((name, primary_skill, higher_education, year_of_graduation))\n",
    "\n",
    "desired_primary_skill = input(\"Enter the desired primary skill: \")\n",
    "desired_higher_education = input(\"Enter the desired higher education: \")\n",
    "desired_year_of_graduation = int(input(\"Enter the desired year of graduation: \"))\n",
    "\n",
    "found_match = False\n",
    "for student in students:\n",
    "    name, skill, education, graduation_year = student\n",
    "    if (\n",
    "        skill == desired_primary_skill\n",
    "        and education == desired_higher_education\n",
    "        and graduation_year == desired_year_of_graduation\n",
    "    ):\n",
    "        print(f\"Match found: {student}\")\n",
    "        found_match = True\n",
    "\n",
    "if not found_match:\n",
    "    print(\"No such candidate.\")\n",
    "\n"
   ]
  },
  {
   "cell_type": "markdown",
   "id": "a578d2cc-4870-4aa9-be51-8e16dc621a90",
   "metadata": {},
   "source": [
    "### Set:"
   ]
  },
  {
   "cell_type": "markdown",
   "id": "f7de8eda-6d02-481c-9e42-01059bc9a51f",
   "metadata": {},
   "source": [
    "### Q1) Write a program to find set of common elements in three lists using sets.\n",
    "Input : ar1 = [1, 5, 10, 20, 40, 80]\n",
    "        ar2 = [6, 7, 20, 80, 100]\n",
    "        ar3 = [3, 4, 15, 20, 30, 70, 80, 120]\n",
    "\n",
    "Output : [80, 20]"
   ]
  },
  {
   "cell_type": "code",
   "execution_count": 7,
   "id": "7e20a54a-f90e-4942-a73a-26c28660917a",
   "metadata": {},
   "outputs": [
    {
     "name": "stdout",
     "output_type": "stream",
     "text": [
      "Common elements: [80, 20]\n"
     ]
    }
   ],
   "source": [
    "def find_common_elements(ar1, ar2, ar3):\n",
    "\n",
    "    set1 = set(ar1)\n",
    "    set2 = set(ar2)\n",
    "    set3 = set(ar3)\n",
    "\n",
    "    common_elements = set1.intersection(set2, set3)\n",
    "\n",
    "    return list(common_elements)\n",
    "ar1 = [1, 5, 10, 20, 40, 80] \n",
    "ar2 = [6, 7, 20, 80, 100] \n",
    "ar3 = [3, 4, 15, 20, 30, 70, 80, 120]\n",
    "\n",
    "result = find_common_elements(ar1, ar2, ar3) \n",
    "print(\"Common elements:\", result)"
   ]
  },
  {
   "cell_type": "markdown",
   "id": "0ea69f2d-e837-4467-8a45-c79a0947ad53",
   "metadata": {},
   "source": [
    "### Q2) Write a program to count unique number of vowels using sets in a given string. Lowercase and upercase vowels will be taken as different.\n",
    "Input:\n",
    "\n",
    "Str1 = \"hands-on data science mentorship progrAm with live classes at affordable fee only on CampusX\"\n",
    "Output:\n",
    "\n",
    "No of unique vowels-6"
   ]
  },
  {
   "cell_type": "code",
   "execution_count": 8,
   "id": "1e6b7e02-0944-4707-ba08-548f13adcff3",
   "metadata": {},
   "outputs": [
    {
     "name": "stdout",
     "output_type": "stream",
     "text": [
      "No. of unique vowels: 28\n"
     ]
    }
   ],
   "source": [
    "def count_unique_vowels(s):\n",
    "    vowels = set(\"aeiouAEIOU\")\n",
    "    \n",
    "    unique_vowels_count = 0\n",
    "    \n",
    "    for char in s:\n",
    "        if char in vowels:\n",
    "            unique_vowels_count += 1\n",
    "    \n",
    "    return unique_vowels_count\n",
    "\n",
    "str1 = \"hands-on data science mentorship progrAm with live classes at affordable fee only on CampusX\"\n",
    "result = count_unique_vowels(str1)\n",
    "print(f\"No. of unique vowels: {result}\")\n"
   ]
  },
  {
   "cell_type": "markdown",
   "id": "fa19a671-a656-41cc-ad81-a5be610ca0ea",
   "metadata": {},
   "source": [
    "### Q3) Write a program to Check if a given string is binary string of or not.\n",
    "A string is said to be binary if it's consists of only two unique characters.\n",
    "\n",
    "Take string input from user.\n",
    "\n",
    "Input: str = \"01010101010\"\n",
    "Output: Yes\n",
    "\n",
    "Input: str = \"1222211\"\n",
    "Output: Yes\n",
    "\n",
    "Input: str = \"Campusx\"\n",
    "Output: No"
   ]
  },
  {
   "cell_type": "code",
   "execution_count": 9,
   "id": "3457bfcc-3dca-4ae4-b8a5-a2a1c12cbbc9",
   "metadata": {},
   "outputs": [
    {
     "name": "stdin",
     "output_type": "stream",
     "text": [
      "Enter a string:  snehal\n"
     ]
    },
    {
     "name": "stdout",
     "output_type": "stream",
     "text": [
      "No\n"
     ]
    }
   ],
   "source": [
    "def check_binary(string):\n",
    "    unique_chars = set(string)\n",
    "    binary_chars = {'0', '1'}\n",
    "    if unique_chars == binary_chars or unique_chars == {'0'} or unique_chars == {'1'}:\n",
    "        return \"Yes\"\n",
    "    else:\n",
    "        return \"No\"\n",
    "\n",
    "user_input = input(\"Enter a string: \")\n",
    "print(check_binary(user_input))\n"
   ]
  },
  {
   "cell_type": "markdown",
   "id": "414d235c-00fe-4d8e-9cfc-447242e09aa2",
   "metadata": {},
   "source": [
    "### Q4) find union of n arrays.\n",
    "Example 1:\n",
    "\n",
    "Input:\n",
    "\n",
    "[[1, 2, 2, 4, 3, 6],\n",
    " [5, 1, 3, 4],\n",
    " [9, 5, 7, 1],\n",
    " [2, 4, 1, 3]]\n",
    "Output:\n",
    "\n",
    "[1, 2, 3, 4, 5, 6, 7, 9]"
   ]
  },
  {
   "cell_type": "code",
   "execution_count": 10,
   "id": "d14fea11-0abb-441b-9319-e375125c7fe2",
   "metadata": {},
   "outputs": [
    {
     "name": "stdout",
     "output_type": "stream",
     "text": [
      "[1, 2, 3, 4, 5, 6, 7, 9]\n"
     ]
    }
   ],
   "source": [
    "def find_union(arrays):\n",
    "    result_set = set()\n",
    "    for arr in arrays:\n",
    "        result_set.update(arr)\n",
    "    return sorted(result_set)\n",
    "\n",
    "input_arrays = [[1, 2, 2, 4, 3, 6], [5, 1, 3, 4], [9, 5, 7, 1], [2, 4, 1, 3]]\n",
    "output_union = find_union(input_arrays)\n",
    "print(output_union)\n"
   ]
  },
  {
   "cell_type": "markdown",
   "id": "33c34197-ffb8-4204-a016-9cbf707dcb2f",
   "metadata": {},
   "source": [
    "### Q5) Intersection of two lists. Intersection of two list means we need to take all those elements which are common to both of the initial lists and store them into another list. Only use using list-comprehension.\n",
    "Example 1:\n",
    "\n",
    "Input:\n",
    "\n",
    "lst1 = {15, 9, 10, 56, 23, 78, 5, 4, 9}\n",
    "lst2 = {9, 4, 5, 36, 47, 26, 10, 45, 87}\n",
    "Output:\n",
    "\n",
    "[9, 10, 4, 5]"
   ]
  },
  {
   "cell_type": "code",
   "execution_count": 11,
   "id": "c722db2a-9b2f-4d59-bef6-8ff284c36646",
   "metadata": {},
   "outputs": [
    {
     "name": "stdout",
     "output_type": "stream",
     "text": [
      "[9, 10, 5, 4, 9]\n"
     ]
    }
   ],
   "source": [
    "def intersection(lst1, lst2):\n",
    "    return [value for value in lst1 if value in lst2]\n",
    "\n",
    "lst1 = [15, 9, 10, 56, 23, 78, 5, 4, 9]\n",
    "lst2 = [9, 4, 5, 36, 47, 26, 10, 45, 87]\n",
    "result = intersection(lst1, lst2)\n",
    "print(result)  "
   ]
  },
  {
   "cell_type": "markdown",
   "id": "588e3812-c473-4bad-bac8-d4757568eb07",
   "metadata": {},
   "source": [
    "### Dictionary:"
   ]
  },
  {
   "cell_type": "markdown",
   "id": "baf736ef-6760-4b24-9c0d-ff3461f61f61",
   "metadata": {},
   "source": [
    "### Q1) Key with maximum unique values\n",
    "Given a dictionary with values list, extract key whose value has most unique values.\n",
    "\n",
    "Example 1:\n",
    "\n",
    "Input:\n",
    "\n",
    "test_dict = {\"CampusX\" : [5, 7, 9, 4, 0], \"is\" : [6, 7, 4, 3, 3], \"Best\" : [9, 9, 6, 5, 5]}\n",
    "\n",
    "Output:\n",
    "\n",
    "CampusX"
   ]
  },
  {
   "cell_type": "code",
   "execution_count": 12,
   "id": "16bb34fc-fe40-47cc-b37a-b4eae7356fbe",
   "metadata": {},
   "outputs": [
    {
     "name": "stdout",
     "output_type": "stream",
     "text": [
      "is\n"
     ]
    }
   ],
   "source": [
    "test_dict = {\"CampusX\" : [5, 7, 9, 4, 0], \"is\" : [6, 7, 4, 3, 3], \"Best\" : [9, 9, 6, 5, 5]}\n",
    "print(max(test_dict))"
   ]
  },
  {
   "cell_type": "markdown",
   "id": "54eb57f1-5b05-4da7-b95e-a79656bd1a8e",
   "metadata": {},
   "source": [
    "### Q2) Replace words from Dictionary. Given String, replace it’s words from lookup dictionary.\n",
    "Example 1:\n",
    "\n",
    "Input:\n",
    "\n",
    "test_str = 'CampusX best for DS students.'\n",
    "repl_dict = {\"best\" : \"is the best channel\", \"DS\" : \"Data-Science\"}\n",
    "Output:\n",
    "\n",
    "CampusX is the best channel for Data-Science students."
   ]
  },
  {
   "cell_type": "code",
   "execution_count": 13,
   "id": "6b25d69c-5e76-4c55-a9fd-0205c6b24d2f",
   "metadata": {},
   "outputs": [
    {
     "ename": "NameError",
     "evalue": "name 'replace_words' is not defined",
     "output_type": "error",
     "traceback": [
      "\u001b[1;31m---------------------------------------------------------------------------\u001b[0m",
      "\u001b[1;31mNameError\u001b[0m                                 Traceback (most recent call last)",
      "Cell \u001b[1;32mIn[13], line 3\u001b[0m\n\u001b[0;32m      1\u001b[0m test_str \u001b[38;5;241m=\u001b[39m \u001b[38;5;124m'\u001b[39m\u001b[38;5;124mCampusX best for DS students.\u001b[39m\u001b[38;5;124m'\u001b[39m\n\u001b[0;32m      2\u001b[0m repl_dict \u001b[38;5;241m=\u001b[39m {\u001b[38;5;124m\"\u001b[39m\u001b[38;5;124mbest\u001b[39m\u001b[38;5;124m\"\u001b[39m: \u001b[38;5;124m\"\u001b[39m\u001b[38;5;124mis the best channel\u001b[39m\u001b[38;5;124m\"\u001b[39m, \u001b[38;5;124m\"\u001b[39m\u001b[38;5;124mDS\u001b[39m\u001b[38;5;124m\"\u001b[39m: \u001b[38;5;124m\"\u001b[39m\u001b[38;5;124mData-Science\u001b[39m\u001b[38;5;124m\"\u001b[39m}\n\u001b[1;32m----> 3\u001b[0m output \u001b[38;5;241m=\u001b[39m replace_words(test_str, repl_dict)\n\u001b[0;32m      4\u001b[0m \u001b[38;5;28mprint\u001b[39m(\u001b[38;5;124m\"\u001b[39m\u001b[38;5;124mReplaced Strings:\u001b[39m\u001b[38;5;124m\"\u001b[39m, output)\n",
      "\u001b[1;31mNameError\u001b[0m: name 'replace_words' is not defined"
     ]
    }
   ],
   "source": [
    "test_str = 'CampusX best for DS students.'\n",
    "repl_dict = {\"best\": \"is the best channel\", \"DS\": \"Data-Science\"}\n",
    "output = replace_words(test_str, repl_dict)\n",
    "print(\"Replaced Strings:\", output)\n"
   ]
  },
  {
   "cell_type": "markdown",
   "id": "860c3d60-8855-4eaf-bc12-11638eaa25da",
   "metadata": {},
   "source": [
    "### Q3) Convert List to List of dictionaries. Given list values and keys list, convert these values to key value pairs in form of list of dictionaries.\n",
    "Example 1:\n",
    "\n",
    "Input:\n",
    "\n",
    "test_list = [\"DataScience\", 3, \"is\", 8]\n",
    "key_list = [\"name\", \"id\"]\n",
    "\n",
    "Output:[{'name': 'DataScience', 'id': 3}, {'name': 'is', 'id': 8}]"
   ]
  },
  {
   "cell_type": "code",
   "execution_count": 14,
   "id": "5f2f2857-5638-4d65-83e0-70d9828e0943",
   "metadata": {},
   "outputs": [
    {
     "name": "stdout",
     "output_type": "stream",
     "text": [
      "The constructed dictionary list: [{'name': 'datascience', 'id': 3}, {'name': 'is', 'id': 8}]\n"
     ]
    }
   ],
   "source": [
    "test_list = [\"datascience\", 3, \"is\", 8]\n",
    "key_list = [\"name\", \"id\"]\n",
    "\n",
    "n = len(test_list)\n",
    "res = []\n",
    "for idx in range(0, n, 2):\n",
    "    res.append({key_list[0]: test_list[idx], key_list[1]: test_list[idx + 1]})\n",
    "\n",
    "print(\"The constructed dictionary list:\", res)\n"
   ]
  },
  {
   "cell_type": "markdown",
   "id": "55d726b9-ed4b-4faa-b86a-5ce9b5ddea7f",
   "metadata": {},
   "source": [
    "### Q4) Convert a list of Tuples into Dictionary.\n",
    "Example 1:\n",
    "\n",
    "Input:[(\"akash\", 10), (\"gaurav\", 12), (\"anand\", 14), (\"suraj\", 20), (\"akhil\", 25), (\"ashish\", 30)]\n",
    "\n",
    "Output:{'akash': [10], 'gaurav': [12], 'anand': [14], 'suraj': [20], 'akhil': [25], 'ashish': [30]}"
   ]
  },
  {
   "cell_type": "code",
   "execution_count": 15,
   "id": "f82e2ea6-78b6-4fb5-83d7-3d555e1663ae",
   "metadata": {},
   "outputs": [
    {
     "name": "stdout",
     "output_type": "stream",
     "text": [
      "{'akash': [10], 'gaurav': [12], 'anand': [14], 'suraj': [20], 'akhil': [25], 'ashish': [30]}\n"
     ]
    }
   ],
   "source": [
    "def convert_to_dict(tup):\n",
    "    result_dict = {}\n",
    "    for key, value in tup:\n",
    "        result_dict.setdefault(key, []).append(value)\n",
    "    return result_dict\n",
    "\n",
    "input_list = [(\"akash\", 10), (\"gaurav\", 12), (\"anand\", 14), (\"suraj\", 20), (\"akhil\", 25), (\"ashish\", 30)]\n",
    "output_dict = convert_to_dict(input_list)\n",
    "print(output_dict)\n"
   ]
  },
  {
   "cell_type": "markdown",
   "id": "6deced9c-e9de-4c64-a50d-4fc22577cac2",
   "metadata": {},
   "source": [
    "### Q5) Sort Dictionary key and values List.\n",
    "Example 1:\n",
    "\n",
    "Input:{'c': [3], 'b': [12, 10], 'a': [19, 4]}\n",
    "\n",
    "Output:{'a': [4, 19], 'b': [10, 12], 'c': [3]}"
   ]
  },
  {
   "cell_type": "code",
   "execution_count": 16,
   "id": "db19da6f-da13-4423-b51e-6e028ec5e29e",
   "metadata": {},
   "outputs": [
    {
     "name": "stdout",
     "output_type": "stream",
     "text": [
      "{'a': [4, 19], 'b': [10, 12], 'c': [3]}\n"
     ]
    }
   ],
   "source": [
    "input_dict = {'c': [3], 'b': [12, 10], 'a': [19, 4]}\n",
    "output_dict = {key: sorted(input_dict[key]) for key in sorted(input_dict)}\n",
    "print(output_dict)\n"
   ]
  },
  {
   "cell_type": "code",
   "execution_count": null,
   "id": "dcd3efad-5a3c-409a-8cb7-458c9ee63d17",
   "metadata": {},
   "outputs": [],
   "source": []
  },
  {
   "cell_type": "code",
   "execution_count": null,
   "id": "acaa35df-a82c-4359-9b72-347d629c6a01",
   "metadata": {},
   "outputs": [],
   "source": []
  },
  {
   "cell_type": "code",
   "execution_count": null,
   "id": "3647a331-605c-4897-97f4-b4cfbf89e9bb",
   "metadata": {},
   "outputs": [],
   "source": []
  },
  {
   "cell_type": "code",
   "execution_count": null,
   "id": "5aad19db-a1f1-486d-a3dd-1ac69fbb4383",
   "metadata": {},
   "outputs": [],
   "source": []
  },
  {
   "cell_type": "code",
   "execution_count": null,
   "id": "e2cc69a6-b798-4c39-bc04-842db9d14dc7",
   "metadata": {},
   "outputs": [],
   "source": []
  }
 ],
 "metadata": {
  "kernelspec": {
   "display_name": "Python 3 (ipykernel)",
   "language": "python",
   "name": "python3"
  },
  "language_info": {
   "codemirror_mode": {
    "name": "ipython",
    "version": 3
   },
   "file_extension": ".py",
   "mimetype": "text/x-python",
   "name": "python",
   "nbconvert_exporter": "python",
   "pygments_lexer": "ipython3",
   "version": "3.11.7"
  }
 },
 "nbformat": 4,
 "nbformat_minor": 5
}
